{
 "cells": [
  {
   "cell_type": "markdown",
   "id": "0ff21934",
   "metadata": {},
   "source": [
    "# 🌍 Climate Change Modeling (Part B)\n",
    "\n",
    "This notebook builds a machine learning model to predict global land temperatures using historical data."
   ]
  },
  {
   "cell_type": "markdown",
   "id": "c1f089b9",
   "metadata": {},
   "source": [
    "## 1. Load and Preprocess Data"
   ]
  },
  {
   "cell_type": "code",
   "execution_count": 11,
   "id": "0f2f50bd",
   "metadata": {},
   "outputs": [],
   "source": [
    "\n",
    "import pandas as pd\n",
    "import matplotlib.pyplot as plt\n",
    "import seaborn as sns\n",
    "\n",
    "# Load a sample of the large dataset\n",
    "df = pd.read_csv(\"GlobalLandTemperaturesByCity.csv\", usecols=[\"dt\", \"AverageTemperature\"], nrows=500_000)\n",
    "\n",
    "# Preprocess\n",
    "df['dt'] = pd.to_datetime(df['dt'], errors='coerce')\n",
    "df = df.dropna()\n",
    "df['year'] = df['dt'].dt.year\n",
    "\n",
    "# Group by year\n",
    "yearly_avg = df.groupby('year')['AverageTemperature'].mean().reset_index()\n",
    "yearly_avg = yearly_avg[yearly_avg['year'] >= 1900]\n"
   ]
  },
  {
   "cell_type": "markdown",
   "id": "9b4c857c",
   "metadata": {},
   "source": [
    "## 2. Feature Engineering"
   ]
  },
  {
   "cell_type": "code",
   "execution_count": 12,
   "id": "3c91f192",
   "metadata": {},
   "outputs": [],
   "source": [
    "\n",
    "# Rolling average and polynomial feature\n",
    "yearly_avg['temp_rolling3'] = yearly_avg['AverageTemperature'].rolling(window=3, min_periods=1).mean()\n",
    "yearly_avg['year_squared'] = yearly_avg['year'] ** 2\n"
   ]
  },
  {
   "cell_type": "markdown",
   "id": "79182667",
   "metadata": {},
   "source": [
    "## 3. Model Training (Linear Regression & Random Forest)"
   ]
  },
  {
   "cell_type": "code",
   "execution_count": 13,
   "id": "f7198c54",
   "metadata": {},
   "outputs": [
    {
     "name": "stdout",
     "output_type": "stream",
     "text": [
      "Linear Regression R2: 0.44746385778344655\n",
      "Random Forest R2: -0.45463056711926364\n"
     ]
    }
   ],
   "source": [
    "\n",
    "from sklearn.model_selection import train_test_split\n",
    "from sklearn.linear_model import LinearRegression\n",
    "from sklearn.ensemble import RandomForestRegressor\n",
    "from sklearn.metrics import mean_absolute_error, mean_squared_error, r2_score\n",
    "\n",
    "X = yearly_avg[['year', 'year_squared', 'temp_rolling3']]\n",
    "y = yearly_avg['AverageTemperature']\n",
    "X_train, X_test, y_train, y_test = train_test_split(X, y, test_size=0.15, shuffle=False)\n",
    "\n",
    "# Linear Regression\n",
    "lr_model = LinearRegression()\n",
    "lr_model.fit(X_train, y_train)\n",
    "lr_pred = lr_model.predict(X_test)\n",
    "\n",
    "# Random Forest\n",
    "rf_model = RandomForestRegressor(n_estimators=100, random_state=42)\n",
    "rf_model.fit(X_train, y_train)\n",
    "rf_pred = rf_model.predict(X_test)\n",
    "\n",
    "# Metrics\n",
    "print(\"Linear Regression R2:\", r2_score(y_test, lr_pred))\n",
    "print(\"Random Forest R2:\", r2_score(y_test, rf_pred))\n"
   ]
  },
  {
   "cell_type": "markdown",
   "id": "74c9a477",
   "metadata": {},
   "source": [
    "## 4. Save Trained Models"
   ]
  },
  {
   "cell_type": "code",
   "execution_count": 14,
   "id": "447d25b0",
   "metadata": {},
   "outputs": [
    {
     "data": {
      "text/plain": [
       "['rf_temp_model.pkl']"
      ]
     },
     "execution_count": 14,
     "metadata": {},
     "output_type": "execute_result"
    }
   ],
   "source": [
    "\n",
    "import joblib\n",
    "\n",
    "joblib.dump(lr_model, \"linear_temp_model.pkl\")\n",
    "joblib.dump(rf_model, \"rf_temp_model.pkl\")\n"
   ]
  },
  {
   "cell_type": "markdown",
   "id": "6cdaa43a",
   "metadata": {},
   "source": [
    "## 5. Predict Future Temperatures (2024–2030)"
   ]
  },
  {
   "cell_type": "code",
   "execution_count": 15,
   "id": "6ba26bf6",
   "metadata": {},
   "outputs": [
    {
     "name": "stdout",
     "output_type": "stream",
     "text": [
      "   year  year_squared  temp_rolling3  PredictedTemperature\n",
      "0  2024       4096576       18.37761             18.051359\n",
      "1  2025       4100625       18.37761             18.051359\n",
      "2  2026       4104676       18.37761             18.051359\n",
      "3  2027       4108729       18.37761             18.051359\n",
      "4  2028       4112784       18.37761             18.051359\n",
      "5  2029       4116841       18.37761             18.051359\n",
      "6  2030       4120900       18.37761             18.051359\n"
     ]
    }
   ],
   "source": [
    "\n",
    "future_years = pd.DataFrame({'year': list(range(2024, 2031))})\n",
    "future_years['year_squared'] = future_years['year'] ** 2\n",
    "future_years['temp_rolling3'] = [yearly_avg['temp_rolling3'].iloc[-1]] * len(future_years)\n",
    "\n",
    "future_preds = rf_model.predict(future_years)\n",
    "future_years['PredictedTemperature'] = future_preds\n",
    "print(future_years)\n"
   ]
  },
  {
   "cell_type": "code",
   "execution_count": null,
   "id": "40c60947",
   "metadata": {},
   "outputs": [],
   "source": []
  }
 ],
 "metadata": {
  "kernelspec": {
   "display_name": "Python 3",
   "language": "python",
   "name": "python3"
  },
  "language_info": {
   "codemirror_mode": {
    "name": "ipython",
    "version": 3
   },
   "file_extension": ".py",
   "mimetype": "text/x-python",
   "name": "python",
   "nbconvert_exporter": "python",
   "pygments_lexer": "ipython3",
   "version": "3.13.4"
  }
 },
 "nbformat": 4,
 "nbformat_minor": 5
}
